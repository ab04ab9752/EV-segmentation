{
 "cells": [
  {
   "cell_type": "code",
   "execution_count": 49,
   "id": "06ffb7e7",
   "metadata": {},
   "outputs": [],
   "source": [
    "#importing important libraries\n",
    "import pandas as pd\n",
    "import numpy as np"
   ]
  },
  {
   "cell_type": "code",
   "execution_count": 91,
   "id": "e7e8baa0",
   "metadata": {},
   "outputs": [],
   "source": [
    "data=pd.read_excel('ev_final.xlsx')"
   ]
  },
  {
   "cell_type": "code",
   "execution_count": 92,
   "id": "ea0a2281",
   "metadata": {},
   "outputs": [
    {
     "data": {
      "text/html": [
       "<div>\n",
       "<style scoped>\n",
       "    .dataframe tbody tr th:only-of-type {\n",
       "        vertical-align: middle;\n",
       "    }\n",
       "\n",
       "    .dataframe tbody tr th {\n",
       "        vertical-align: top;\n",
       "    }\n",
       "\n",
       "    .dataframe thead th {\n",
       "        text-align: right;\n",
       "    }\n",
       "</style>\n",
       "<table border=\"1\" class=\"dataframe\">\n",
       "  <thead>\n",
       "    <tr style=\"text-align: right;\">\n",
       "      <th></th>\n",
       "      <th>uid</th>\n",
       "      <th>name</th>\n",
       "      <th>vendor_name</th>\n",
       "      <th>address</th>\n",
       "      <th>latitude</th>\n",
       "      <th>longitude</th>\n",
       "      <th>city</th>\n",
       "      <th>country</th>\n",
       "      <th>open</th>\n",
       "      <th>close</th>\n",
       "      <th>...</th>\n",
       "      <th>postal_code</th>\n",
       "      <th>zone</th>\n",
       "      <th>0</th>\n",
       "      <th>available</th>\n",
       "      <th>capacity</th>\n",
       "      <th>cost_per_unit</th>\n",
       "      <th>power_type</th>\n",
       "      <th>total</th>\n",
       "      <th>type</th>\n",
       "      <th>vehicle_type</th>\n",
       "    </tr>\n",
       "  </thead>\n",
       "  <tbody>\n",
       "    <tr>\n",
       "      <th>0</th>\n",
       "      <td>STATIC12</td>\n",
       "      <td>GensolCharge Pvt. Ltd.</td>\n",
       "      <td>GensolCharge Pvt. Ltd.</td>\n",
       "      <td>NDSE Grid, BRPL South Extension</td>\n",
       "      <td>28.568238</td>\n",
       "      <td>77.219666</td>\n",
       "      <td>Delhi</td>\n",
       "      <td>India</td>\n",
       "      <td>00:00:00</td>\n",
       "      <td>23:59:59</td>\n",
       "      <td>...</td>\n",
       "      <td>110001</td>\n",
       "      <td>central-delhi</td>\n",
       "      <td>NaN</td>\n",
       "      <td>NaN</td>\n",
       "      <td>15 kW</td>\n",
       "      <td>NaN</td>\n",
       "      <td>DC</td>\n",
       "      <td>2.0</td>\n",
       "      <td>BEVC DC 001</td>\n",
       "      <td>['4W']</td>\n",
       "    </tr>\n",
       "    <tr>\n",
       "      <th>1</th>\n",
       "      <td>STATIC14</td>\n",
       "      <td>REIL</td>\n",
       "      <td>REIL</td>\n",
       "      <td>Scada office kalka ji</td>\n",
       "      <td>28.541995</td>\n",
       "      <td>77.260583</td>\n",
       "      <td>Delhi</td>\n",
       "      <td>India</td>\n",
       "      <td>00:00:00</td>\n",
       "      <td>23:59:59</td>\n",
       "      <td>...</td>\n",
       "      <td>110001</td>\n",
       "      <td>central-delhi</td>\n",
       "      <td>NaN</td>\n",
       "      <td>NaN</td>\n",
       "      <td>3.3 kW</td>\n",
       "      <td>NaN</td>\n",
       "      <td>AC</td>\n",
       "      <td>3.0</td>\n",
       "      <td>BEVC AC 001</td>\n",
       "      <td>['2W', '3W', '4W']</td>\n",
       "    </tr>\n",
       "    <tr>\n",
       "      <th>2</th>\n",
       "      <td>STATIC15</td>\n",
       "      <td>REIL</td>\n",
       "      <td>REIL</td>\n",
       "      <td>Ashram Chowk Mathura Road</td>\n",
       "      <td>28.571189</td>\n",
       "      <td>77.259806</td>\n",
       "      <td>Delhi</td>\n",
       "      <td>India</td>\n",
       "      <td>00:00:00</td>\n",
       "      <td>23:59:59</td>\n",
       "      <td>...</td>\n",
       "      <td>110001</td>\n",
       "      <td>central-delhi</td>\n",
       "      <td>NaN</td>\n",
       "      <td>NaN</td>\n",
       "      <td>15 kW</td>\n",
       "      <td>NaN</td>\n",
       "      <td>DC</td>\n",
       "      <td>2.0</td>\n",
       "      <td>BEVC DC 001</td>\n",
       "      <td>['4W']</td>\n",
       "    </tr>\n",
       "    <tr>\n",
       "      <th>3</th>\n",
       "      <td>STATIC16</td>\n",
       "      <td>REIL</td>\n",
       "      <td>REIL</td>\n",
       "      <td>Nizamuddin Railway station</td>\n",
       "      <td>28.588991</td>\n",
       "      <td>77.253240</td>\n",
       "      <td>Delhi</td>\n",
       "      <td>India</td>\n",
       "      <td>00:00:00</td>\n",
       "      <td>23:59:59</td>\n",
       "      <td>...</td>\n",
       "      <td>110001</td>\n",
       "      <td>central-delhi</td>\n",
       "      <td>NaN</td>\n",
       "      <td>NaN</td>\n",
       "      <td>15 kW</td>\n",
       "      <td>NaN</td>\n",
       "      <td>DC</td>\n",
       "      <td>4.0</td>\n",
       "      <td>BEVC DC 001</td>\n",
       "      <td>['4W']</td>\n",
       "    </tr>\n",
       "    <tr>\n",
       "      <th>4</th>\n",
       "      <td>STATIC17</td>\n",
       "      <td>BluSmart</td>\n",
       "      <td>BluSmart</td>\n",
       "      <td>BSES Bhawan, Nehru Place, New Delhi 110048</td>\n",
       "      <td>28.549427</td>\n",
       "      <td>77.254636</td>\n",
       "      <td>Delhi</td>\n",
       "      <td>India</td>\n",
       "      <td>00:00:00</td>\n",
       "      <td>23:59:59</td>\n",
       "      <td>...</td>\n",
       "      <td>110001</td>\n",
       "      <td>central-delhi</td>\n",
       "      <td>NaN</td>\n",
       "      <td>NaN</td>\n",
       "      <td>15 kW</td>\n",
       "      <td>NaN</td>\n",
       "      <td>DC</td>\n",
       "      <td>1.0</td>\n",
       "      <td>BEVC DC 001</td>\n",
       "      <td>['4W']</td>\n",
       "    </tr>\n",
       "  </tbody>\n",
       "</table>\n",
       "<p>5 rows × 25 columns</p>\n",
       "</div>"
      ],
      "text/plain": [
       "        uid                    name             vendor_name  \\\n",
       "0  STATIC12  GensolCharge Pvt. Ltd.  GensolCharge Pvt. Ltd.   \n",
       "1  STATIC14                    REIL                    REIL   \n",
       "2  STATIC15                    REIL                    REIL   \n",
       "3  STATIC16                    REIL                    REIL   \n",
       "4  STATIC17                BluSmart                BluSmart   \n",
       "\n",
       "                                      address   latitude  longitude   city  \\\n",
       "0             NDSE Grid, BRPL South Extension  28.568238  77.219666  Delhi   \n",
       "1                       Scada office kalka ji  28.541995  77.260583  Delhi   \n",
       "2                   Ashram Chowk Mathura Road  28.571189  77.259806  Delhi   \n",
       "3                  Nizamuddin Railway station  28.588991  77.253240  Delhi   \n",
       "4  BSES Bhawan, Nehru Place, New Delhi 110048  28.549427  77.254636  Delhi   \n",
       "\n",
       "  country      open     close  ... postal_code           zone   0 available  \\\n",
       "0   India  00:00:00  23:59:59  ...      110001  central-delhi NaN       NaN   \n",
       "1   India  00:00:00  23:59:59  ...      110001  central-delhi NaN       NaN   \n",
       "2   India  00:00:00  23:59:59  ...      110001  central-delhi NaN       NaN   \n",
       "3   India  00:00:00  23:59:59  ...      110001  central-delhi NaN       NaN   \n",
       "4   India  00:00:00  23:59:59  ...      110001  central-delhi NaN       NaN   \n",
       "\n",
       "  capacity  cost_per_unit power_type  total         type        vehicle_type  \n",
       "0    15 kW            NaN         DC    2.0  BEVC DC 001              ['4W']  \n",
       "1   3.3 kW            NaN         AC    3.0  BEVC AC 001  ['2W', '3W', '4W']  \n",
       "2    15 kW            NaN         DC    2.0  BEVC DC 001              ['4W']  \n",
       "3    15 kW            NaN         DC    4.0  BEVC DC 001              ['4W']  \n",
       "4    15 kW            NaN         DC    1.0  BEVC DC 001              ['4W']  \n",
       "\n",
       "[5 rows x 25 columns]"
      ]
     },
     "execution_count": 92,
     "metadata": {},
     "output_type": "execute_result"
    }
   ],
   "source": [
    "data.head()"
   ]
  },
  {
   "cell_type": "code",
   "execution_count": 52,
   "id": "df6f6f71",
   "metadata": {},
   "outputs": [
    {
     "data": {
      "text/plain": [
       "Index(['uid', 'name', 'vendor_name', 'address', 'latitude', 'longitude',\n",
       "       'city', 'country', 'open', 'close', 'logo_url', 'staff',\n",
       "       'payment_modes', 'contact_numbers', 'station_type', 'postal_code',\n",
       "       'zone', '0', 'available', 'capacity', 'cost_per_unit', 'power_type',\n",
       "       'total', 'type', 'vehicle_type'],\n",
       "      dtype='object')"
      ]
     },
     "execution_count": 52,
     "metadata": {},
     "output_type": "execute_result"
    }
   ],
   "source": [
    "data.columns #printing all the columns present in the dataset"
   ]
  },
  {
   "cell_type": "code",
   "execution_count": 53,
   "id": "5bc0b856",
   "metadata": {},
   "outputs": [
    {
     "data": {
      "text/plain": [
       "array([nan,  1.,  0.,  2.,  4.,  3., 12., 73., 27.])"
      ]
     },
     "execution_count": 53,
     "metadata": {},
     "output_type": "execute_result"
    }
   ],
   "source": [
    "data['available'].unique()"
   ]
  },
  {
   "cell_type": "code",
   "execution_count": 54,
   "id": "9262e048",
   "metadata": {},
   "outputs": [
    {
     "data": {
      "text/plain": [
       "238"
      ]
     },
     "execution_count": 54,
     "metadata": {},
     "output_type": "execute_result"
    }
   ],
   "source": [
    "data['available'].isnull().sum() # to get the total number of null values "
   ]
  },
  {
   "cell_type": "code",
   "execution_count": 55,
   "id": "8437ca87",
   "metadata": {},
   "outputs": [
    {
     "data": {
      "text/plain": [
       "(2705, 25)"
      ]
     },
     "execution_count": 55,
     "metadata": {},
     "output_type": "execute_result"
    }
   ],
   "source": [
    "data.shape"
   ]
  },
  {
   "cell_type": "code",
   "execution_count": 56,
   "id": "b7bc4d83",
   "metadata": {},
   "outputs": [
    {
     "data": {
      "text/html": [
       "<div>\n",
       "<style scoped>\n",
       "    .dataframe tbody tr th:only-of-type {\n",
       "        vertical-align: middle;\n",
       "    }\n",
       "\n",
       "    .dataframe tbody tr th {\n",
       "        vertical-align: top;\n",
       "    }\n",
       "\n",
       "    .dataframe thead th {\n",
       "        text-align: right;\n",
       "    }\n",
       "</style>\n",
       "<table border=\"1\" class=\"dataframe\">\n",
       "  <thead>\n",
       "    <tr style=\"text-align: right;\">\n",
       "      <th></th>\n",
       "      <th>0</th>\n",
       "      <th>1</th>\n",
       "      <th>2</th>\n",
       "      <th>3</th>\n",
       "      <th>4</th>\n",
       "    </tr>\n",
       "  </thead>\n",
       "  <tbody>\n",
       "    <tr>\n",
       "      <th>uid</th>\n",
       "      <td>STATIC12</td>\n",
       "      <td>STATIC14</td>\n",
       "      <td>STATIC15</td>\n",
       "      <td>STATIC16</td>\n",
       "      <td>STATIC17</td>\n",
       "    </tr>\n",
       "    <tr>\n",
       "      <th>name</th>\n",
       "      <td>GensolCharge Pvt. Ltd.</td>\n",
       "      <td>REIL</td>\n",
       "      <td>REIL</td>\n",
       "      <td>REIL</td>\n",
       "      <td>BluSmart</td>\n",
       "    </tr>\n",
       "    <tr>\n",
       "      <th>vendor_name</th>\n",
       "      <td>GensolCharge Pvt. Ltd.</td>\n",
       "      <td>REIL</td>\n",
       "      <td>REIL</td>\n",
       "      <td>REIL</td>\n",
       "      <td>BluSmart</td>\n",
       "    </tr>\n",
       "    <tr>\n",
       "      <th>address</th>\n",
       "      <td>NDSE Grid, BRPL South Extension</td>\n",
       "      <td>Scada office kalka ji</td>\n",
       "      <td>Ashram Chowk Mathura Road</td>\n",
       "      <td>Nizamuddin Railway station</td>\n",
       "      <td>BSES Bhawan, Nehru Place, New Delhi 110048</td>\n",
       "    </tr>\n",
       "    <tr>\n",
       "      <th>latitude</th>\n",
       "      <td>28.568238</td>\n",
       "      <td>28.541995</td>\n",
       "      <td>28.571189</td>\n",
       "      <td>28.588991</td>\n",
       "      <td>28.549427</td>\n",
       "    </tr>\n",
       "    <tr>\n",
       "      <th>longitude</th>\n",
       "      <td>77.219666</td>\n",
       "      <td>77.260583</td>\n",
       "      <td>77.259806</td>\n",
       "      <td>77.25324</td>\n",
       "      <td>77.254636</td>\n",
       "    </tr>\n",
       "    <tr>\n",
       "      <th>city</th>\n",
       "      <td>Delhi</td>\n",
       "      <td>Delhi</td>\n",
       "      <td>Delhi</td>\n",
       "      <td>Delhi</td>\n",
       "      <td>Delhi</td>\n",
       "    </tr>\n",
       "    <tr>\n",
       "      <th>country</th>\n",
       "      <td>India</td>\n",
       "      <td>India</td>\n",
       "      <td>India</td>\n",
       "      <td>India</td>\n",
       "      <td>India</td>\n",
       "    </tr>\n",
       "    <tr>\n",
       "      <th>open</th>\n",
       "      <td>00:00:00</td>\n",
       "      <td>00:00:00</td>\n",
       "      <td>00:00:00</td>\n",
       "      <td>00:00:00</td>\n",
       "      <td>00:00:00</td>\n",
       "    </tr>\n",
       "    <tr>\n",
       "      <th>close</th>\n",
       "      <td>23:59:59</td>\n",
       "      <td>23:59:59</td>\n",
       "      <td>23:59:59</td>\n",
       "      <td>23:59:59</td>\n",
       "      <td>23:59:59</td>\n",
       "    </tr>\n",
       "    <tr>\n",
       "      <th>logo_url</th>\n",
       "      <td>NaN</td>\n",
       "      <td>NaN</td>\n",
       "      <td>NaN</td>\n",
       "      <td>NaN</td>\n",
       "      <td>NaN</td>\n",
       "    </tr>\n",
       "    <tr>\n",
       "      <th>staff</th>\n",
       "      <td>Unstaffed</td>\n",
       "      <td>Unstaffed</td>\n",
       "      <td>Unstaffed</td>\n",
       "      <td>Unstaffed</td>\n",
       "      <td>Unstaffed</td>\n",
       "    </tr>\n",
       "    <tr>\n",
       "      <th>payment_modes</th>\n",
       "      <td>Card, E-Wallet, UPI</td>\n",
       "      <td>E-Wallet</td>\n",
       "      <td>E-Wallet</td>\n",
       "      <td>Cash/E-Wallet</td>\n",
       "      <td>Cash/E-Wallet</td>\n",
       "    </tr>\n",
       "    <tr>\n",
       "      <th>contact_numbers</th>\n",
       "      <td>[\"7042406677\"]</td>\n",
       "      <td>[\"11399999228\"]</td>\n",
       "      <td>[\"9811024398\"]</td>\n",
       "      <td>[\"9717632007\"]</td>\n",
       "      <td>[\"7042406677\"]</td>\n",
       "    </tr>\n",
       "    <tr>\n",
       "      <th>station_type</th>\n",
       "      <td>charging</td>\n",
       "      <td>charging</td>\n",
       "      <td>charging</td>\n",
       "      <td>charging</td>\n",
       "      <td>charging</td>\n",
       "    </tr>\n",
       "    <tr>\n",
       "      <th>postal_code</th>\n",
       "      <td>110001</td>\n",
       "      <td>110001</td>\n",
       "      <td>110001</td>\n",
       "      <td>110001</td>\n",
       "      <td>110001</td>\n",
       "    </tr>\n",
       "    <tr>\n",
       "      <th>zone</th>\n",
       "      <td>central-delhi</td>\n",
       "      <td>central-delhi</td>\n",
       "      <td>central-delhi</td>\n",
       "      <td>central-delhi</td>\n",
       "      <td>central-delhi</td>\n",
       "    </tr>\n",
       "    <tr>\n",
       "      <th>0</th>\n",
       "      <td>NaN</td>\n",
       "      <td>NaN</td>\n",
       "      <td>NaN</td>\n",
       "      <td>NaN</td>\n",
       "      <td>NaN</td>\n",
       "    </tr>\n",
       "    <tr>\n",
       "      <th>available</th>\n",
       "      <td>NaN</td>\n",
       "      <td>NaN</td>\n",
       "      <td>NaN</td>\n",
       "      <td>NaN</td>\n",
       "      <td>NaN</td>\n",
       "    </tr>\n",
       "    <tr>\n",
       "      <th>capacity</th>\n",
       "      <td>15 kW</td>\n",
       "      <td>3.3 kW</td>\n",
       "      <td>15 kW</td>\n",
       "      <td>15 kW</td>\n",
       "      <td>15 kW</td>\n",
       "    </tr>\n",
       "    <tr>\n",
       "      <th>cost_per_unit</th>\n",
       "      <td>NaN</td>\n",
       "      <td>NaN</td>\n",
       "      <td>NaN</td>\n",
       "      <td>NaN</td>\n",
       "      <td>NaN</td>\n",
       "    </tr>\n",
       "    <tr>\n",
       "      <th>power_type</th>\n",
       "      <td>DC</td>\n",
       "      <td>AC</td>\n",
       "      <td>DC</td>\n",
       "      <td>DC</td>\n",
       "      <td>DC</td>\n",
       "    </tr>\n",
       "    <tr>\n",
       "      <th>total</th>\n",
       "      <td>2.0</td>\n",
       "      <td>3.0</td>\n",
       "      <td>2.0</td>\n",
       "      <td>4.0</td>\n",
       "      <td>1.0</td>\n",
       "    </tr>\n",
       "    <tr>\n",
       "      <th>type</th>\n",
       "      <td>BEVC DC 001</td>\n",
       "      <td>BEVC AC 001</td>\n",
       "      <td>BEVC DC 001</td>\n",
       "      <td>BEVC DC 001</td>\n",
       "      <td>BEVC DC 001</td>\n",
       "    </tr>\n",
       "    <tr>\n",
       "      <th>vehicle_type</th>\n",
       "      <td>['4W']</td>\n",
       "      <td>['2W', '3W', '4W']</td>\n",
       "      <td>['4W']</td>\n",
       "      <td>['4W']</td>\n",
       "      <td>['4W']</td>\n",
       "    </tr>\n",
       "  </tbody>\n",
       "</table>\n",
       "</div>"
      ],
      "text/plain": [
       "                                               0                      1  \\\n",
       "uid                                     STATIC12               STATIC14   \n",
       "name                      GensolCharge Pvt. Ltd.                   REIL   \n",
       "vendor_name               GensolCharge Pvt. Ltd.                   REIL   \n",
       "address          NDSE Grid, BRPL South Extension  Scada office kalka ji   \n",
       "latitude                               28.568238              28.541995   \n",
       "longitude                              77.219666              77.260583   \n",
       "city                                       Delhi                  Delhi   \n",
       "country                                    India                  India   \n",
       "open                                    00:00:00               00:00:00   \n",
       "close                                   23:59:59               23:59:59   \n",
       "logo_url                                     NaN                    NaN   \n",
       "staff                                  Unstaffed              Unstaffed   \n",
       "payment_modes                Card, E-Wallet, UPI               E-Wallet   \n",
       "contact_numbers                   [\"7042406677\"]        [\"11399999228\"]   \n",
       "station_type                            charging               charging   \n",
       "postal_code                               110001                 110001   \n",
       "zone                               central-delhi          central-delhi   \n",
       "0                                            NaN                    NaN   \n",
       "available                                    NaN                    NaN   \n",
       "capacity                                   15 kW                 3.3 kW   \n",
       "cost_per_unit                                NaN                    NaN   \n",
       "power_type                                    DC                     AC   \n",
       "total                                        2.0                    3.0   \n",
       "type                                 BEVC DC 001            BEVC AC 001   \n",
       "vehicle_type                              ['4W']     ['2W', '3W', '4W']   \n",
       "\n",
       "                                         2                           3  \\\n",
       "uid                               STATIC15                    STATIC16   \n",
       "name                                  REIL                        REIL   \n",
       "vendor_name                           REIL                        REIL   \n",
       "address          Ashram Chowk Mathura Road  Nizamuddin Railway station   \n",
       "latitude                         28.571189                   28.588991   \n",
       "longitude                        77.259806                    77.25324   \n",
       "city                                 Delhi                       Delhi   \n",
       "country                              India                       India   \n",
       "open                              00:00:00                    00:00:00   \n",
       "close                             23:59:59                    23:59:59   \n",
       "logo_url                               NaN                         NaN   \n",
       "staff                            Unstaffed                   Unstaffed   \n",
       "payment_modes                     E-Wallet               Cash/E-Wallet   \n",
       "contact_numbers             [\"9811024398\"]              [\"9717632007\"]   \n",
       "station_type                      charging                    charging   \n",
       "postal_code                         110001                      110001   \n",
       "zone                         central-delhi               central-delhi   \n",
       "0                                      NaN                         NaN   \n",
       "available                              NaN                         NaN   \n",
       "capacity                             15 kW                       15 kW   \n",
       "cost_per_unit                          NaN                         NaN   \n",
       "power_type                              DC                          DC   \n",
       "total                                  2.0                         4.0   \n",
       "type                           BEVC DC 001                 BEVC DC 001   \n",
       "vehicle_type                        ['4W']                      ['4W']   \n",
       "\n",
       "                                                          4  \n",
       "uid                                                STATIC17  \n",
       "name                                               BluSmart  \n",
       "vendor_name                                        BluSmart  \n",
       "address          BSES Bhawan, Nehru Place, New Delhi 110048  \n",
       "latitude                                          28.549427  \n",
       "longitude                                         77.254636  \n",
       "city                                                  Delhi  \n",
       "country                                               India  \n",
       "open                                               00:00:00  \n",
       "close                                              23:59:59  \n",
       "logo_url                                                NaN  \n",
       "staff                                             Unstaffed  \n",
       "payment_modes                                 Cash/E-Wallet  \n",
       "contact_numbers                              [\"7042406677\"]  \n",
       "station_type                                       charging  \n",
       "postal_code                                          110001  \n",
       "zone                                          central-delhi  \n",
       "0                                                       NaN  \n",
       "available                                               NaN  \n",
       "capacity                                              15 kW  \n",
       "cost_per_unit                                           NaN  \n",
       "power_type                                               DC  \n",
       "total                                                   1.0  \n",
       "type                                            BEVC DC 001  \n",
       "vehicle_type                                         ['4W']  "
      ]
     },
     "execution_count": 56,
     "metadata": {},
     "output_type": "execute_result"
    }
   ],
   "source": [
    "data.head().T #all the columns were not visible so its transpose is printed"
   ]
  },
  {
   "cell_type": "code",
   "execution_count": 57,
   "id": "46b57918",
   "metadata": {},
   "outputs": [
    {
     "name": "stdout",
     "output_type": "stream",
     "text": [
      "<class 'pandas.core.frame.DataFrame'>\n",
      "RangeIndex: 2705 entries, 0 to 2704\n",
      "Data columns (total 25 columns):\n",
      " #   Column           Non-Null Count  Dtype  \n",
      "---  ------           --------------  -----  \n",
      " 0   uid              2705 non-null   object \n",
      " 1   name             2705 non-null   object \n",
      " 2   vendor_name      2705 non-null   object \n",
      " 3   address          2705 non-null   object \n",
      " 4   latitude         2705 non-null   float64\n",
      " 5   longitude        2705 non-null   float64\n",
      " 6   city             2705 non-null   object \n",
      " 7   country          2705 non-null   object \n",
      " 8   open             2705 non-null   object \n",
      " 9   close            2705 non-null   object \n",
      " 10  logo_url         2238 non-null   object \n",
      " 11  staff            2705 non-null   object \n",
      " 12  payment_modes    2705 non-null   object \n",
      " 13  contact_numbers  2705 non-null   object \n",
      " 14  station_type     2705 non-null   object \n",
      " 15  postal_code      2705 non-null   int64  \n",
      " 16  zone             2410 non-null   object \n",
      " 17  0                0 non-null      float64\n",
      " 18  available        2467 non-null   float64\n",
      " 19  capacity         2497 non-null   object \n",
      " 20  cost_per_unit    2453 non-null   object \n",
      " 21  power_type       2497 non-null   object \n",
      " 22  total            2497 non-null   float64\n",
      " 23  type             2497 non-null   object \n",
      " 24  vehicle_type     2497 non-null   object \n",
      "dtypes: float64(5), int64(1), object(19)\n",
      "memory usage: 528.4+ KB\n"
     ]
    }
   ],
   "source": [
    "data.info()"
   ]
  },
  {
   "cell_type": "code",
   "execution_count": 84,
   "id": "e50e194e",
   "metadata": {},
   "outputs": [
    {
     "data": {
      "text/plain": [
       "7.6894639556377085"
      ]
     },
     "execution_count": 84,
     "metadata": {},
     "output_type": "execute_result"
    }
   ],
   "source": [
    "data['capacity'].isnull().sum()/len(data['capacity'])*100"
   ]
  },
  {
   "cell_type": "code",
   "execution_count": 93,
   "id": "31b50bb5",
   "metadata": {},
   "outputs": [],
   "source": [
    "data['capacity'].fillna('0 kW',inplace=True)"
   ]
  },
  {
   "cell_type": "code",
   "execution_count": 86,
   "id": "75cf0f19",
   "metadata": {},
   "outputs": [
    {
     "data": {
      "text/plain": [
       "0"
      ]
     },
     "execution_count": 86,
     "metadata": {},
     "output_type": "execute_result"
    }
   ],
   "source": [
    "data['capacity'].isnull().sum()"
   ]
  },
  {
   "cell_type": "code",
   "execution_count": 61,
   "id": "152b69ab",
   "metadata": {},
   "outputs": [
    {
     "data": {
      "text/plain": [
       "array(['Delhi', 'New Delhi', 'Dwarka', 'Nagpur', 'Chennai', 'Kolkata',\n",
       "       'Thiruvananthapuram', 'Kochi', 'Panaji', 'Raipur', 'Gurgaon',\n",
       "       'Kollam', 'Ahmedabad', 'Bengaluru', 'Kottayam', 'Palakkad',\n",
       "       'Kasaragod', 'Mapusa', 'Thrissur', 'Hardwar', 'Kozhikode',\n",
       "       'Kannur', 'Alappuzha', 'Dehradun', 'Dhanbad', 'Malappuram'],\n",
       "      dtype=object)"
      ]
     },
     "execution_count": 61,
     "metadata": {},
     "output_type": "execute_result"
    }
   ],
   "source": [
    "data['city'].unique()"
   ]
  },
  {
   "cell_type": "code",
   "execution_count": 62,
   "id": "66a646a4",
   "metadata": {},
   "outputs": [],
   "source": [
    "data['city'].replace({'Delhi':'New Delhi'},inplace=True)"
   ]
  },
  {
   "cell_type": "code",
   "execution_count": 63,
   "id": "bfa32229",
   "metadata": {},
   "outputs": [
    {
     "data": {
      "text/plain": [
       "array(['Unstaffed', 'Staffed', 'staffed', 'UnStaffed'], dtype=object)"
      ]
     },
     "execution_count": 63,
     "metadata": {},
     "output_type": "execute_result"
    }
   ],
   "source": [
    "data['staff'].unique()"
   ]
  },
  {
   "cell_type": "code",
   "execution_count": 64,
   "id": "e1c9bbaa",
   "metadata": {},
   "outputs": [],
   "source": [
    "data['staff'].replace({'UnStaffed':'Unstaffed','staffed':'Staffed'},inplace=True)"
   ]
  },
  {
   "cell_type": "code",
   "execution_count": 65,
   "id": "b9ba9323",
   "metadata": {},
   "outputs": [
    {
     "data": {
      "text/plain": [
       "array(['Unstaffed', 'Staffed'], dtype=object)"
      ]
     },
     "execution_count": 65,
     "metadata": {},
     "output_type": "execute_result"
    }
   ],
   "source": [
    "data['staff'].unique()"
   ]
  },
  {
   "cell_type": "markdown",
   "id": "cb8cec3e",
   "metadata": {},
   "source": [
    "# plotting various properties of dataset"
   ]
  },
  {
   "cell_type": "code",
   "execution_count": 66,
   "id": "882c622f",
   "metadata": {},
   "outputs": [],
   "source": [
    "import matplotlib.pyplot as plt\n",
    "import seaborn as sns"
   ]
  },
  {
   "cell_type": "code",
   "execution_count": 159,
   "id": "96b12ce0",
   "metadata": {},
   "outputs": [
    {
     "data": {
      "image/png": "[encoded data removed]",
      "text/plain": [
       "<Figure size 2500x600 with 1 Axes>"
      ]
     },
     "metadata": {},
     "output_type": "display_data"
    }
   ],
   "source": [
    "plt.figure(figsize=(25,6))\n",
    "sns.countplot(x=data['city'])\n",
    "plt.yscale('log')"
   ]
  },
  {
   "cell_type": "code",
   "execution_count": 68,
   "id": "ea64b271",
   "metadata": {},
   "outputs": [
    {
     "data": {
      "text/plain": [
       "<Axes: xlabel='staff', ylabel='count'>"
      ]
     },
     "execution_count": 68,
     "metadata": {},
     "output_type": "execute_result"
    },
    {
     "data": {
      "image/png": "[encoded data removed]",
      "text/plain": [
       "<Figure size 640x480 with 1 Axes>"
      ]
     },
     "metadata": {},
     "output_type": "display_data"
    }
   ],
   "source": [
    "sns.countplot(x=data['staff'])"
   ]
  },
  {
   "cell_type": "code",
   "execution_count": 95,
   "id": "e49d5208",
   "metadata": {},
   "outputs": [],
   "source": [
    "data['capacity']=data['capacity'].replace({'kW':''},regex=True)"
   ]
  },
  {
   "cell_type": "code",
   "execution_count": 97,
   "id": "0ba755e5",
   "metadata": {},
   "outputs": [],
   "source": [
    "data['capacity']=data['capacity'].replace({'h':''},regex=True)"
   ]
  },
  {
   "cell_type": "code",
   "execution_count": 99,
   "id": "a1c2b80b",
   "metadata": {},
   "outputs": [],
   "source": [
    "data['capacity']=pd.to_numeric(data['capacity'],errors='coerce')"
   ]
  },
  {
   "cell_type": "code",
   "execution_count": 100,
   "id": "ca45cca4",
   "metadata": {},
   "outputs": [
    {
     "data": {
      "text/plain": [
       "array([ 15. ,   3.3,  30. ,  20. ,  22. , 142. ,  50. ,   0. ,  26. ,\n",
       "         9.9,   7. ,   7.4,  10. ,  60. ,  16. ,  56. ,  28. ])"
      ]
     },
     "execution_count": 100,
     "metadata": {},
     "output_type": "execute_result"
    }
   ],
   "source": [
    "data['capacity'].unique()"
   ]
  },
  {
   "cell_type": "code",
   "execution_count": 101,
   "id": "bd62c744",
   "metadata": {},
   "outputs": [
    {
     "data": {
      "text/plain": [
       "<Axes: xlabel='capacity', ylabel='Count'>"
      ]
     },
     "execution_count": 101,
     "metadata": {},
     "output_type": "execute_result"
    },
    {
     "data": {
      "image/png": "[encoded data removed]",
      "text/plain": [
       "<Figure size 640x480 with 1 Axes>"
      ]
     },
     "metadata": {},
     "output_type": "display_data"
    }
   ],
   "source": [
    "sns.histplot(data['capacity'],bins=20,kde=True,color='mediumseagreen')"
   ]
  },
  {
   "cell_type": "code",
   "execution_count": 106,
   "id": "f8b8ab75",
   "metadata": {},
   "outputs": [
    {
     "data": {
      "text/plain": [
       "array([3, 1, 2, 4], dtype=int64)"
      ]
     },
     "execution_count": 106,
     "metadata": {},
     "output_type": "execute_result"
    }
   ],
   "source": [
    "data['payment_modes'].unique()"
   ]
  },
  {
   "cell_type": "code",
   "execution_count": 103,
   "id": "cb8e979c",
   "metadata": {},
   "outputs": [],
   "source": [
    "data['payment_modes']=data['payment_modes'].replace({'E-wallet,cash,Credit,Debit Card':'E-wallet, cash, Credit, Debit Card'})"
   ]
  },
  {
   "cell_type": "code",
   "execution_count": 105,
   "id": "66450ee9",
   "metadata": {},
   "outputs": [],
   "source": [
    "data['payment_modes']=data['payment_modes'].apply(lambda x: len(str(x).split(', ')))"
   ]
  },
  {
   "cell_type": "code",
   "execution_count": 109,
   "id": "fe46bbd4",
   "metadata": {},
   "outputs": [
    {
     "data": {
      "text/plain": [
       "Text(0, 0.5, 'count of payment types')"
      ]
     },
     "execution_count": 109,
     "metadata": {},
     "output_type": "execute_result"
    },
    {
     "data": {
      "image/png": "[encoded data removed]",
      "text/plain": [
       "<Figure size 640x480 with 1 Axes>"
      ]
     },
     "metadata": {},
     "output_type": "display_data"
    }
   ],
   "source": [
    "sns.histplot(data['payment_modes'],bins=6,stat='count', color='blue')\n",
    "plt.title('Number of payment modes available')\n",
    "plt.xlabel('number of payment types')\n",
    "plt.ylabel('count of payment types')"
   ]
  },
  {
   "cell_type": "code",
   "execution_count": 111,
   "id": "db129264",
   "metadata": {},
   "outputs": [
    {
     "data": {
      "text/plain": [
       "array(['charging', 'battery_swapping'], dtype=object)"
      ]
     },
     "execution_count": 111,
     "metadata": {},
     "output_type": "execute_result"
    }
   ],
   "source": [
    "data['station_type'].unique()"
   ]
  },
  {
   "cell_type": "code",
   "execution_count": 116,
   "id": "1189d70f",
   "metadata": {},
   "outputs": [],
   "source": [
    "x=pd.DataFrame(data['station_type'].value_counts())"
   ]
  },
  {
   "cell_type": "code",
   "execution_count": 117,
   "id": "9a868eec",
   "metadata": {},
   "outputs": [
    {
     "data": {
      "text/html": [
       "<div>\n",
       "<style scoped>\n",
       "    .dataframe tbody tr th:only-of-type {\n",
       "        vertical-align: middle;\n",
       "    }\n",
       "\n",
       "    .dataframe tbody tr th {\n",
       "        vertical-align: top;\n",
       "    }\n",
       "\n",
       "    .dataframe thead th {\n",
       "        text-align: right;\n",
       "    }\n",
       "</style>\n",
       "<table border=\"1\" class=\"dataframe\">\n",
       "  <thead>\n",
       "    <tr style=\"text-align: right;\">\n",
       "      <th></th>\n",
       "      <th>station_type</th>\n",
       "    </tr>\n",
       "  </thead>\n",
       "  <tbody>\n",
       "    <tr>\n",
       "      <th>charging</th>\n",
       "      <td>2498</td>\n",
       "    </tr>\n",
       "    <tr>\n",
       "      <th>battery_swapping</th>\n",
       "      <td>207</td>\n",
       "    </tr>\n",
       "  </tbody>\n",
       "</table>\n",
       "</div>"
      ],
      "text/plain": [
       "                  station_type\n",
       "charging                  2498\n",
       "battery_swapping           207"
      ]
     },
     "execution_count": 117,
     "metadata": {},
     "output_type": "execute_result"
    }
   ],
   "source": [
    "x.head()"
   ]
  },
  {
   "cell_type": "code",
   "execution_count": 122,
   "id": "b1b0b15f",
   "metadata": {},
   "outputs": [
    {
     "data": {
      "text/plain": [
       "<matplotlib.legend.Legend at 0x28fc8627e50>"
      ]
     },
     "execution_count": 122,
     "metadata": {},
     "output_type": "execute_result"
    },
    {
     "data": {
      "image/png": "[encoded data removed]",
      "text/plain": [
       "<Figure size 640x480 with 1 Axes>"
      ]
     },
     "metadata": {},
     "output_type": "display_data"
    }
   ],
   "source": [
    "plt.pie(x['station_type'],labels=x.index,colors=['red','green'])\n",
    "plt.title('Station type distribution')\n",
    "plt.legend(loc=3)"
   ]
  },
  {
   "cell_type": "code",
   "execution_count": 123,
   "id": "44cbbf11",
   "metadata": {},
   "outputs": [
    {
     "data": {
      "text/plain": [
       "array(['DC', 'AC', nan], dtype=object)"
      ]
     },
     "execution_count": 123,
     "metadata": {},
     "output_type": "execute_result"
    }
   ],
   "source": [
    "data['power_type'].unique()"
   ]
  },
  {
   "cell_type": "code",
   "execution_count": 129,
   "id": "f7211b56",
   "metadata": {},
   "outputs": [],
   "source": [
    "data['power_type'].fillna(data['power_type'].mode()[0],inplace=True)"
   ]
  },
  {
   "cell_type": "code",
   "execution_count": 130,
   "id": "7cb5a3de",
   "metadata": {},
   "outputs": [
    {
     "data": {
      "text/plain": [
       "array(['DC', 'AC'], dtype=object)"
      ]
     },
     "execution_count": 130,
     "metadata": {},
     "output_type": "execute_result"
    }
   ],
   "source": [
    "data['power_type'].unique()"
   ]
  },
  {
   "cell_type": "code",
   "execution_count": 135,
   "id": "72161101",
   "metadata": {},
   "outputs": [
    {
     "data": {
      "text/plain": [
       "<Axes: xlabel='power_type', ylabel='count'>"
      ]
     },
     "execution_count": 135,
     "metadata": {},
     "output_type": "execute_result"
    },
    {
     "data": {
      "image/png": "[encoded data removed]",
      "text/plain": [
       "<Figure size 640x480 with 1 Axes>"
      ]
     },
     "metadata": {},
     "output_type": "display_data"
    }
   ],
   "source": [
    "sns.countplot(x=data['power_type'],color='seagreen')"
   ]
  },
  {
   "cell_type": "code",
   "execution_count": 162,
   "id": "879d99b6",
   "metadata": {},
   "outputs": [
    {
     "data": {
      "text/plain": [
       "array([ 15. ,   3.3,  30. ,  20. ,  22. , 142. ,  50. ,   0. ,  26. ,\n",
       "         9.9,   7. ,   7.4,  10. ,  60. ,  16. ,  56. ,  28. ])"
      ]
     },
     "execution_count": 162,
     "metadata": {},
     "output_type": "execute_result"
    }
   ],
   "source": [
    "data['capacity'].unique()"
   ]
  },
  {
   "cell_type": "code",
   "execution_count": 169,
   "id": "392c9722",
   "metadata": {},
   "outputs": [
    {
     "data": {
      "text/plain": [
       "Text(0.5, 1.0, 'Capacity vs count')"
      ]
     },
     "execution_count": 169,
     "metadata": {},
     "output_type": "execute_result"
    },
    {
     "data": {
      "image/png": "[encoded data removed]",
      "text/plain": [
       "<Figure size 640x480 with 1 Axes>"
      ]
     },
     "metadata": {},
     "output_type": "display_data"
    }
   ],
   "source": [
    "sns.countplot(x=data['capacity'])\n",
    "plt.yscale('log')\n",
    "plt.xlabel('Capacity')\n",
    "plt.ylabel('Number of charging Stations')\n",
    "plt.title('Capacity vs count')"
   ]
  },
  {
   "cell_type": "code",
   "execution_count": 154,
   "id": "25a49bf1",
   "metadata": {},
   "outputs": [],
   "source": [
    "veh_type=pd.DataFrame(data['vehicle_type'].value_counts())"
   ]
  },
  {
   "cell_type": "code",
   "execution_count": 157,
   "id": "4eaad99a",
   "metadata": {},
   "outputs": [
    {
     "data": {
      "image/png": "[encoded data removed]",
      "text/plain": [
       "<Figure size 640x480 with 1 Axes>"
      ]
     },
     "metadata": {},
     "output_type": "display_data"
    }
   ],
   "source": [
    "plt.pie(veh_type['vehicle_type'],labels=veh_type.index)\n",
    "plt.show()"
   ]
  },
  {
   "cell_type": "code",
   "execution_count": 170,
   "id": "e74556e5",
   "metadata": {},
   "outputs": [],
   "source": [
    "data_original= data.copy()"
   ]
  },
  {
   "cell_type": "code",
   "execution_count": 172,
   "id": "8aa4e35e",
   "metadata": {},
   "outputs": [],
   "source": [
    "data['city']=data['city'].replace('Delhi','New Delhi')"
   ]
  },
  {
   "cell_type": "code",
   "execution_count": 173,
   "id": "9edb9bb4",
   "metadata": {},
   "outputs": [
    {
     "data": {
      "text/html": [
       "<div>\n",
       "<style scoped>\n",
       "    .dataframe tbody tr th:only-of-type {\n",
       "        vertical-align: middle;\n",
       "    }\n",
       "\n",
       "    .dataframe tbody tr th {\n",
       "        vertical-align: top;\n",
       "    }\n",
       "\n",
       "    .dataframe thead th {\n",
       "        text-align: right;\n",
       "    }\n",
       "</style>\n",
       "<table border=\"1\" class=\"dataframe\">\n",
       "  <thead>\n",
       "    <tr style=\"text-align: right;\">\n",
       "      <th></th>\n",
       "      <th>uid</th>\n",
       "      <th>name</th>\n",
       "      <th>vendor_name</th>\n",
       "      <th>address</th>\n",
       "      <th>latitude</th>\n",
       "      <th>longitude</th>\n",
       "      <th>city</th>\n",
       "      <th>country</th>\n",
       "      <th>open</th>\n",
       "      <th>close</th>\n",
       "      <th>...</th>\n",
       "      <th>postal_code</th>\n",
       "      <th>zone</th>\n",
       "      <th>0</th>\n",
       "      <th>available</th>\n",
       "      <th>capacity</th>\n",
       "      <th>cost_per_unit</th>\n",
       "      <th>power_type</th>\n",
       "      <th>total</th>\n",
       "      <th>type</th>\n",
       "      <th>vehicle_type</th>\n",
       "    </tr>\n",
       "  </thead>\n",
       "  <tbody>\n",
       "    <tr>\n",
       "      <th>0</th>\n",
       "      <td>STATIC12</td>\n",
       "      <td>GensolCharge Pvt. Ltd.</td>\n",
       "      <td>GensolCharge Pvt. Ltd.</td>\n",
       "      <td>NDSE Grid, BRPL South Extension</td>\n",
       "      <td>28.568238</td>\n",
       "      <td>77.219666</td>\n",
       "      <td>New Delhi</td>\n",
       "      <td>India</td>\n",
       "      <td>00:00:00</td>\n",
       "      <td>23:59:59</td>\n",
       "      <td>...</td>\n",
       "      <td>110001</td>\n",
       "      <td>central-delhi</td>\n",
       "      <td>NaN</td>\n",
       "      <td>NaN</td>\n",
       "      <td>15.0</td>\n",
       "      <td>NaN</td>\n",
       "      <td>DC</td>\n",
       "      <td>2.0</td>\n",
       "      <td>BEVC DC 001</td>\n",
       "      <td>['4W']</td>\n",
       "    </tr>\n",
       "    <tr>\n",
       "      <th>1</th>\n",
       "      <td>STATIC14</td>\n",
       "      <td>REIL</td>\n",
       "      <td>REIL</td>\n",
       "      <td>Scada office kalka ji</td>\n",
       "      <td>28.541995</td>\n",
       "      <td>77.260583</td>\n",
       "      <td>New Delhi</td>\n",
       "      <td>India</td>\n",
       "      <td>00:00:00</td>\n",
       "      <td>23:59:59</td>\n",
       "      <td>...</td>\n",
       "      <td>110001</td>\n",
       "      <td>central-delhi</td>\n",
       "      <td>NaN</td>\n",
       "      <td>NaN</td>\n",
       "      <td>3.3</td>\n",
       "      <td>NaN</td>\n",
       "      <td>AC</td>\n",
       "      <td>3.0</td>\n",
       "      <td>BEVC AC 001</td>\n",
       "      <td>['2W', '3W', '4W']</td>\n",
       "    </tr>\n",
       "    <tr>\n",
       "      <th>2</th>\n",
       "      <td>STATIC15</td>\n",
       "      <td>REIL</td>\n",
       "      <td>REIL</td>\n",
       "      <td>Ashram Chowk Mathura Road</td>\n",
       "      <td>28.571189</td>\n",
       "      <td>77.259806</td>\n",
       "      <td>New Delhi</td>\n",
       "      <td>India</td>\n",
       "      <td>00:00:00</td>\n",
       "      <td>23:59:59</td>\n",
       "      <td>...</td>\n",
       "      <td>110001</td>\n",
       "      <td>central-delhi</td>\n",
       "      <td>NaN</td>\n",
       "      <td>NaN</td>\n",
       "      <td>15.0</td>\n",
       "      <td>NaN</td>\n",
       "      <td>DC</td>\n",
       "      <td>2.0</td>\n",
       "      <td>BEVC DC 001</td>\n",
       "      <td>['4W']</td>\n",
       "    </tr>\n",
       "    <tr>\n",
       "      <th>3</th>\n",
       "      <td>STATIC16</td>\n",
       "      <td>REIL</td>\n",
       "      <td>REIL</td>\n",
       "      <td>Nizamuddin Railway station</td>\n",
       "      <td>28.588991</td>\n",
       "      <td>77.253240</td>\n",
       "      <td>New Delhi</td>\n",
       "      <td>India</td>\n",
       "      <td>00:00:00</td>\n",
       "      <td>23:59:59</td>\n",
       "      <td>...</td>\n",
       "      <td>110001</td>\n",
       "      <td>central-delhi</td>\n",
       "      <td>NaN</td>\n",
       "      <td>NaN</td>\n",
       "      <td>15.0</td>\n",
       "      <td>NaN</td>\n",
       "      <td>DC</td>\n",
       "      <td>4.0</td>\n",
       "      <td>BEVC DC 001</td>\n",
       "      <td>['4W']</td>\n",
       "    </tr>\n",
       "    <tr>\n",
       "      <th>4</th>\n",
       "      <td>STATIC17</td>\n",
       "      <td>BluSmart</td>\n",
       "      <td>BluSmart</td>\n",
       "      <td>BSES Bhawan, Nehru Place, New Delhi 110048</td>\n",
       "      <td>28.549427</td>\n",
       "      <td>77.254636</td>\n",
       "      <td>New Delhi</td>\n",
       "      <td>India</td>\n",
       "      <td>00:00:00</td>\n",
       "      <td>23:59:59</td>\n",
       "      <td>...</td>\n",
       "      <td>110001</td>\n",
       "      <td>central-delhi</td>\n",
       "      <td>NaN</td>\n",
       "      <td>NaN</td>\n",
       "      <td>15.0</td>\n",
       "      <td>NaN</td>\n",
       "      <td>DC</td>\n",
       "      <td>1.0</td>\n",
       "      <td>BEVC DC 001</td>\n",
       "      <td>['4W']</td>\n",
       "    </tr>\n",
       "  </tbody>\n",
       "</table>\n",
       "<p>5 rows × 25 columns</p>\n",
       "</div>"
      ],
      "text/plain": [
       "        uid                    name             vendor_name  \\\n",
       "0  STATIC12  GensolCharge Pvt. Ltd.  GensolCharge Pvt. Ltd.   \n",
       "1  STATIC14                    REIL                    REIL   \n",
       "2  STATIC15                    REIL                    REIL   \n",
       "3  STATIC16                    REIL                    REIL   \n",
       "4  STATIC17                BluSmart                BluSmart   \n",
       "\n",
       "                                      address   latitude  longitude  \\\n",
       "0             NDSE Grid, BRPL South Extension  28.568238  77.219666   \n",
       "1                       Scada office kalka ji  28.541995  77.260583   \n",
       "2                   Ashram Chowk Mathura Road  28.571189  77.259806   \n",
       "3                  Nizamuddin Railway station  28.588991  77.253240   \n",
       "4  BSES Bhawan, Nehru Place, New Delhi 110048  28.549427  77.254636   \n",
       "\n",
       "        city country      open     close  ... postal_code           zone   0  \\\n",
       "0  New Delhi   India  00:00:00  23:59:59  ...      110001  central-delhi NaN   \n",
       "1  New Delhi   India  00:00:00  23:59:59  ...      110001  central-delhi NaN   \n",
       "2  New Delhi   India  00:00:00  23:59:59  ...      110001  central-delhi NaN   \n",
       "3  New Delhi   India  00:00:00  23:59:59  ...      110001  central-delhi NaN   \n",
       "4  New Delhi   India  00:00:00  23:59:59  ...      110001  central-delhi NaN   \n",
       "\n",
       "  available capacity  cost_per_unit power_type  total         type  \\\n",
       "0       NaN     15.0            NaN         DC    2.0  BEVC DC 001   \n",
       "1       NaN      3.3            NaN         AC    3.0  BEVC AC 001   \n",
       "2       NaN     15.0            NaN         DC    2.0  BEVC DC 001   \n",
       "3       NaN     15.0            NaN         DC    4.0  BEVC DC 001   \n",
       "4       NaN     15.0            NaN         DC    1.0  BEVC DC 001   \n",
       "\n",
       "         vehicle_type  \n",
       "0              ['4W']  \n",
       "1  ['2W', '3W', '4W']  \n",
       "2              ['4W']  \n",
       "3              ['4W']  \n",
       "4              ['4W']  \n",
       "\n",
       "[5 rows x 25 columns]"
      ]
     },
     "execution_count": 173,
     "metadata": {},
     "output_type": "execute_result"
    }
   ],
   "source": [
    "data.head()"
   ]
  },
  {
   "cell_type": "code",
   "execution_count": 176,
   "id": "ec364ec3",
   "metadata": {},
   "outputs": [],
   "source": [
    "data.drop(['0','available'],axis=1,inplace=True)"
   ]
  },
  {
   "cell_type": "code",
   "execution_count": 177,
   "id": "bb024b27",
   "metadata": {},
   "outputs": [
    {
     "data": {
      "text/html": [
       "<div>\n",
       "<style scoped>\n",
       "    .dataframe tbody tr th:only-of-type {\n",
       "        vertical-align: middle;\n",
       "    }\n",
       "\n",
       "    .dataframe tbody tr th {\n",
       "        vertical-align: top;\n",
       "    }\n",
       "\n",
       "    .dataframe thead th {\n",
       "        text-align: right;\n",
       "    }\n",
       "</style>\n",
       "<table border=\"1\" class=\"dataframe\">\n",
       "  <thead>\n",
       "    <tr style=\"text-align: right;\">\n",
       "      <th></th>\n",
       "      <th>0</th>\n",
       "      <th>1</th>\n",
       "      <th>2</th>\n",
       "      <th>3</th>\n",
       "      <th>4</th>\n",
       "    </tr>\n",
       "  </thead>\n",
       "  <tbody>\n",
       "    <tr>\n",
       "      <th>uid</th>\n",
       "      <td>STATIC12</td>\n",
       "      <td>STATIC14</td>\n",
       "      <td>STATIC15</td>\n",
       "      <td>STATIC16</td>\n",
       "      <td>STATIC17</td>\n",
       "    </tr>\n",
       "    <tr>\n",
       "      <th>name</th>\n",
       "      <td>GensolCharge Pvt. Ltd.</td>\n",
       "      <td>REIL</td>\n",
       "      <td>REIL</td>\n",
       "      <td>REIL</td>\n",
       "      <td>BluSmart</td>\n",
       "    </tr>\n",
       "    <tr>\n",
       "      <th>vendor_name</th>\n",
       "      <td>GensolCharge Pvt. Ltd.</td>\n",
       "      <td>REIL</td>\n",
       "      <td>REIL</td>\n",
       "      <td>REIL</td>\n",
       "      <td>BluSmart</td>\n",
       "    </tr>\n",
       "    <tr>\n",
       "      <th>address</th>\n",
       "      <td>NDSE Grid, BRPL South Extension</td>\n",
       "      <td>Scada office kalka ji</td>\n",
       "      <td>Ashram Chowk Mathura Road</td>\n",
       "      <td>Nizamuddin Railway station</td>\n",
       "      <td>BSES Bhawan, Nehru Place, New Delhi 110048</td>\n",
       "    </tr>\n",
       "    <tr>\n",
       "      <th>latitude</th>\n",
       "      <td>28.568238</td>\n",
       "      <td>28.541995</td>\n",
       "      <td>28.571189</td>\n",
       "      <td>28.588991</td>\n",
       "      <td>28.549427</td>\n",
       "    </tr>\n",
       "    <tr>\n",
       "      <th>longitude</th>\n",
       "      <td>77.219666</td>\n",
       "      <td>77.260583</td>\n",
       "      <td>77.259806</td>\n",
       "      <td>77.25324</td>\n",
       "      <td>77.254636</td>\n",
       "    </tr>\n",
       "    <tr>\n",
       "      <th>city</th>\n",
       "      <td>New Delhi</td>\n",
       "      <td>New Delhi</td>\n",
       "      <td>New Delhi</td>\n",
       "      <td>New Delhi</td>\n",
       "      <td>New Delhi</td>\n",
       "    </tr>\n",
       "    <tr>\n",
       "      <th>country</th>\n",
       "      <td>India</td>\n",
       "      <td>India</td>\n",
       "      <td>India</td>\n",
       "      <td>India</td>\n",
       "      <td>India</td>\n",
       "    </tr>\n",
       "    <tr>\n",
       "      <th>open</th>\n",
       "      <td>00:00:00</td>\n",
       "      <td>00:00:00</td>\n",
       "      <td>00:00:00</td>\n",
       "      <td>00:00:00</td>\n",
       "      <td>00:00:00</td>\n",
       "    </tr>\n",
       "    <tr>\n",
       "      <th>close</th>\n",
       "      <td>23:59:59</td>\n",
       "      <td>23:59:59</td>\n",
       "      <td>23:59:59</td>\n",
       "      <td>23:59:59</td>\n",
       "      <td>23:59:59</td>\n",
       "    </tr>\n",
       "    <tr>\n",
       "      <th>logo_url</th>\n",
       "      <td>NaN</td>\n",
       "      <td>NaN</td>\n",
       "      <td>NaN</td>\n",
       "      <td>NaN</td>\n",
       "      <td>NaN</td>\n",
       "    </tr>\n",
       "    <tr>\n",
       "      <th>staff</th>\n",
       "      <td>Unstaffed</td>\n",
       "      <td>Unstaffed</td>\n",
       "      <td>Unstaffed</td>\n",
       "      <td>Unstaffed</td>\n",
       "      <td>Unstaffed</td>\n",
       "    </tr>\n",
       "    <tr>\n",
       "      <th>payment_modes</th>\n",
       "      <td>3</td>\n",
       "      <td>1</td>\n",
       "      <td>1</td>\n",
       "      <td>1</td>\n",
       "      <td>1</td>\n",
       "    </tr>\n",
       "    <tr>\n",
       "      <th>contact_numbers</th>\n",
       "      <td>[\"7042406677\"]</td>\n",
       "      <td>[\"11399999228\"]</td>\n",
       "      <td>[\"9811024398\"]</td>\n",
       "      <td>[\"9717632007\"]</td>\n",
       "      <td>[\"7042406677\"]</td>\n",
       "    </tr>\n",
       "    <tr>\n",
       "      <th>station_type</th>\n",
       "      <td>charging</td>\n",
       "      <td>charging</td>\n",
       "      <td>charging</td>\n",
       "      <td>charging</td>\n",
       "      <td>charging</td>\n",
       "    </tr>\n",
       "    <tr>\n",
       "      <th>postal_code</th>\n",
       "      <td>110001</td>\n",
       "      <td>110001</td>\n",
       "      <td>110001</td>\n",
       "      <td>110001</td>\n",
       "      <td>110001</td>\n",
       "    </tr>\n",
       "    <tr>\n",
       "      <th>zone</th>\n",
       "      <td>central-delhi</td>\n",
       "      <td>central-delhi</td>\n",
       "      <td>central-delhi</td>\n",
       "      <td>central-delhi</td>\n",
       "      <td>central-delhi</td>\n",
       "    </tr>\n",
       "    <tr>\n",
       "      <th>capacity</th>\n",
       "      <td>15.0</td>\n",
       "      <td>3.3</td>\n",
       "      <td>15.0</td>\n",
       "      <td>15.0</td>\n",
       "      <td>15.0</td>\n",
       "    </tr>\n",
       "    <tr>\n",
       "      <th>cost_per_unit</th>\n",
       "      <td>NaN</td>\n",
       "      <td>NaN</td>\n",
       "      <td>NaN</td>\n",
       "      <td>NaN</td>\n",
       "      <td>NaN</td>\n",
       "    </tr>\n",
       "    <tr>\n",
       "      <th>power_type</th>\n",
       "      <td>DC</td>\n",
       "      <td>AC</td>\n",
       "      <td>DC</td>\n",
       "      <td>DC</td>\n",
       "      <td>DC</td>\n",
       "    </tr>\n",
       "    <tr>\n",
       "      <th>total</th>\n",
       "      <td>2.0</td>\n",
       "      <td>3.0</td>\n",
       "      <td>2.0</td>\n",
       "      <td>4.0</td>\n",
       "      <td>1.0</td>\n",
       "    </tr>\n",
       "    <tr>\n",
       "      <th>type</th>\n",
       "      <td>BEVC DC 001</td>\n",
       "      <td>BEVC AC 001</td>\n",
       "      <td>BEVC DC 001</td>\n",
       "      <td>BEVC DC 001</td>\n",
       "      <td>BEVC DC 001</td>\n",
       "    </tr>\n",
       "    <tr>\n",
       "      <th>vehicle_type</th>\n",
       "      <td>['4W']</td>\n",
       "      <td>['2W', '3W', '4W']</td>\n",
       "      <td>['4W']</td>\n",
       "      <td>['4W']</td>\n",
       "      <td>['4W']</td>\n",
       "    </tr>\n",
       "  </tbody>\n",
       "</table>\n",
       "</div>"
      ],
      "text/plain": [
       "                                               0                      1  \\\n",
       "uid                                     STATIC12               STATIC14   \n",
       "name                      GensolCharge Pvt. Ltd.                   REIL   \n",
       "vendor_name               GensolCharge Pvt. Ltd.                   REIL   \n",
       "address          NDSE Grid, BRPL South Extension  Scada office kalka ji   \n",
       "latitude                               28.568238              28.541995   \n",
       "longitude                              77.219666              77.260583   \n",
       "city                                   New Delhi              New Delhi   \n",
       "country                                    India                  India   \n",
       "open                                    00:00:00               00:00:00   \n",
       "close                                   23:59:59               23:59:59   \n",
       "logo_url                                     NaN                    NaN   \n",
       "staff                                  Unstaffed              Unstaffed   \n",
       "payment_modes                                  3                      1   \n",
       "contact_numbers                   [\"7042406677\"]        [\"11399999228\"]   \n",
       "station_type                            charging               charging   \n",
       "postal_code                               110001                 110001   \n",
       "zone                               central-delhi          central-delhi   \n",
       "capacity                                    15.0                    3.3   \n",
       "cost_per_unit                                NaN                    NaN   \n",
       "power_type                                    DC                     AC   \n",
       "total                                        2.0                    3.0   \n",
       "type                                 BEVC DC 001            BEVC AC 001   \n",
       "vehicle_type                              ['4W']     ['2W', '3W', '4W']   \n",
       "\n",
       "                                         2                           3  \\\n",
       "uid                               STATIC15                    STATIC16   \n",
       "name                                  REIL                        REIL   \n",
       "vendor_name                           REIL                        REIL   \n",
       "address          Ashram Chowk Mathura Road  Nizamuddin Railway station   \n",
       "latitude                         28.571189                   28.588991   \n",
       "longitude                        77.259806                    77.25324   \n",
       "city                             New Delhi                   New Delhi   \n",
       "country                              India                       India   \n",
       "open                              00:00:00                    00:00:00   \n",
       "close                             23:59:59                    23:59:59   \n",
       "logo_url                               NaN                         NaN   \n",
       "staff                            Unstaffed                   Unstaffed   \n",
       "payment_modes                            1                           1   \n",
       "contact_numbers             [\"9811024398\"]              [\"9717632007\"]   \n",
       "station_type                      charging                    charging   \n",
       "postal_code                         110001                      110001   \n",
       "zone                         central-delhi               central-delhi   \n",
       "capacity                              15.0                        15.0   \n",
       "cost_per_unit                          NaN                         NaN   \n",
       "power_type                              DC                          DC   \n",
       "total                                  2.0                         4.0   \n",
       "type                           BEVC DC 001                 BEVC DC 001   \n",
       "vehicle_type                        ['4W']                      ['4W']   \n",
       "\n",
       "                                                          4  \n",
       "uid                                                STATIC17  \n",
       "name                                               BluSmart  \n",
       "vendor_name                                        BluSmart  \n",
       "address          BSES Bhawan, Nehru Place, New Delhi 110048  \n",
       "latitude                                          28.549427  \n",
       "longitude                                         77.254636  \n",
       "city                                              New Delhi  \n",
       "country                                               India  \n",
       "open                                               00:00:00  \n",
       "close                                              23:59:59  \n",
       "logo_url                                                NaN  \n",
       "staff                                             Unstaffed  \n",
       "payment_modes                                             1  \n",
       "contact_numbers                              [\"7042406677\"]  \n",
       "station_type                                       charging  \n",
       "postal_code                                          110001  \n",
       "zone                                          central-delhi  \n",
       "capacity                                               15.0  \n",
       "cost_per_unit                                           NaN  \n",
       "power_type                                               DC  \n",
       "total                                                   1.0  \n",
       "type                                            BEVC DC 001  \n",
       "vehicle_type                                         ['4W']  "
      ]
     },
     "execution_count": 177,
     "metadata": {},
     "output_type": "execute_result"
    }
   ],
   "source": [
    "data.head().T"
   ]
  },
  {
   "cell_type": "code",
   "execution_count": 179,
   "id": "75994667",
   "metadata": {},
   "outputs": [],
   "source": [
    "data.drop(['payment_modes','type','name','vendor_name','address','latitude','longitude','country','open','close','contact_numbers','postal_code','zone','cost_per_unit'],axis=1,inplace=True)"
   ]
  },
  {
   "cell_type": "code",
   "execution_count": 180,
   "id": "77d8d857",
   "metadata": {},
   "outputs": [
    {
     "data": {
      "text/html": [
       "<div>\n",
       "<style scoped>\n",
       "    .dataframe tbody tr th:only-of-type {\n",
       "        vertical-align: middle;\n",
       "    }\n",
       "\n",
       "    .dataframe tbody tr th {\n",
       "        vertical-align: top;\n",
       "    }\n",
       "\n",
       "    .dataframe thead th {\n",
       "        text-align: right;\n",
       "    }\n",
       "</style>\n",
       "<table border=\"1\" class=\"dataframe\">\n",
       "  <thead>\n",
       "    <tr style=\"text-align: right;\">\n",
       "      <th></th>\n",
       "      <th>uid</th>\n",
       "      <th>city</th>\n",
       "      <th>staff</th>\n",
       "      <th>station_type</th>\n",
       "      <th>capacity</th>\n",
       "      <th>power_type</th>\n",
       "      <th>total</th>\n",
       "      <th>vehicle_type</th>\n",
       "    </tr>\n",
       "  </thead>\n",
       "  <tbody>\n",
       "    <tr>\n",
       "      <th>0</th>\n",
       "      <td>STATIC12</td>\n",
       "      <td>New Delhi</td>\n",
       "      <td>Unstaffed</td>\n",
       "      <td>charging</td>\n",
       "      <td>15.0</td>\n",
       "      <td>DC</td>\n",
       "      <td>2.0</td>\n",
       "      <td>['4W']</td>\n",
       "    </tr>\n",
       "    <tr>\n",
       "      <th>1</th>\n",
       "      <td>STATIC14</td>\n",
       "      <td>New Delhi</td>\n",
       "      <td>Unstaffed</td>\n",
       "      <td>charging</td>\n",
       "      <td>3.3</td>\n",
       "      <td>AC</td>\n",
       "      <td>3.0</td>\n",
       "      <td>['2W', '3W', '4W']</td>\n",
       "    </tr>\n",
       "    <tr>\n",
       "      <th>2</th>\n",
       "      <td>STATIC15</td>\n",
       "      <td>New Delhi</td>\n",
       "      <td>Unstaffed</td>\n",
       "      <td>charging</td>\n",
       "      <td>15.0</td>\n",
       "      <td>DC</td>\n",
       "      <td>2.0</td>\n",
       "      <td>['4W']</td>\n",
       "    </tr>\n",
       "    <tr>\n",
       "      <th>3</th>\n",
       "      <td>STATIC16</td>\n",
       "      <td>New Delhi</td>\n",
       "      <td>Unstaffed</td>\n",
       "      <td>charging</td>\n",
       "      <td>15.0</td>\n",
       "      <td>DC</td>\n",
       "      <td>4.0</td>\n",
       "      <td>['4W']</td>\n",
       "    </tr>\n",
       "    <tr>\n",
       "      <th>4</th>\n",
       "      <td>STATIC17</td>\n",
       "      <td>New Delhi</td>\n",
       "      <td>Unstaffed</td>\n",
       "      <td>charging</td>\n",
       "      <td>15.0</td>\n",
       "      <td>DC</td>\n",
       "      <td>1.0</td>\n",
       "      <td>['4W']</td>\n",
       "    </tr>\n",
       "  </tbody>\n",
       "</table>\n",
       "</div>"
      ],
      "text/plain": [
       "        uid       city      staff station_type  capacity power_type  total  \\\n",
       "0  STATIC12  New Delhi  Unstaffed     charging      15.0         DC    2.0   \n",
       "1  STATIC14  New Delhi  Unstaffed     charging       3.3         AC    3.0   \n",
       "2  STATIC15  New Delhi  Unstaffed     charging      15.0         DC    2.0   \n",
       "3  STATIC16  New Delhi  Unstaffed     charging      15.0         DC    4.0   \n",
       "4  STATIC17  New Delhi  Unstaffed     charging      15.0         DC    1.0   \n",
       "\n",
       "         vehicle_type  \n",
       "0              ['4W']  \n",
       "1  ['2W', '3W', '4W']  \n",
       "2              ['4W']  \n",
       "3              ['4W']  \n",
       "4              ['4W']  "
      ]
     },
     "execution_count": 180,
     "metadata": {},
     "output_type": "execute_result"
    }
   ],
   "source": [
    "data.head()"
   ]
  },
  {
   "cell_type": "code",
   "execution_count": 181,
   "id": "186144f9",
   "metadata": {},
   "outputs": [
    {
     "data": {
      "text/plain": [
       "array([ 2.,  3.,  4.,  1., 20.,  7., 12., 40., 13., nan,  6., 78., 34.])"
      ]
     },
     "execution_count": 181,
     "metadata": {},
     "output_type": "execute_result"
    }
   ],
   "source": [
    "data['total'].unique()"
   ]
  },
  {
   "cell_type": "code",
   "execution_count": 182,
   "id": "53d16bd0",
   "metadata": {},
   "outputs": [],
   "source": [
    "data.drop(['total'],axis=1,inplace=True)"
   ]
  },
  {
   "cell_type": "code",
   "execution_count": 183,
   "id": "8e03396e",
   "metadata": {},
   "outputs": [],
   "source": [
    "# using label encoding to convert object type columns to numeric\n",
    "from sklearn.preprocessing import LabelEncoder\n",
    "def label_encode(data,column):\n",
    "        label_encoder=LabelEncoder()\n",
    "        return label_encoder.fit_transform(data[column].astype(str))"
   ]
  },
  {
   "cell_type": "code",
   "execution_count": 184,
   "id": "2e50ce91",
   "metadata": {},
   "outputs": [],
   "source": [
    "data.drop(['uid'],axis=1,inplace=True)"
   ]
  },
  {
   "cell_type": "code",
   "execution_count": 185,
   "id": "9243d61a",
   "metadata": {},
   "outputs": [],
   "source": [
    "data_original=data.copy()"
   ]
  },
  {
   "cell_type": "code",
   "execution_count": 187,
   "id": "0c7a1a94",
   "metadata": {},
   "outputs": [],
   "source": [
    "data['city']=label_encode(data,'city')\n",
    "data['staff']=label_encode(data,'staff')\n",
    "data['station_type']=label_encode(data,'station_type')\n",
    "data['power_type']=label_encode(data,'power_type')\n",
    "data['vehicle_type']=label_encode(data,'vehicle_type')"
   ]
  },
  {
   "cell_type": "code",
   "execution_count": 188,
   "id": "1a0c3b40",
   "metadata": {},
   "outputs": [
    {
     "data": {
      "text/html": [
       "<div>\n",
       "<style scoped>\n",
       "    .dataframe tbody tr th:only-of-type {\n",
       "        vertical-align: middle;\n",
       "    }\n",
       "\n",
       "    .dataframe tbody tr th {\n",
       "        vertical-align: top;\n",
       "    }\n",
       "\n",
       "    .dataframe thead th {\n",
       "        text-align: right;\n",
       "    }\n",
       "</style>\n",
       "<table border=\"1\" class=\"dataframe\">\n",
       "  <thead>\n",
       "    <tr style=\"text-align: right;\">\n",
       "      <th></th>\n",
       "      <th>city</th>\n",
       "      <th>staff</th>\n",
       "      <th>station_type</th>\n",
       "      <th>capacity</th>\n",
       "      <th>power_type</th>\n",
       "      <th>vehicle_type</th>\n",
       "    </tr>\n",
       "  </thead>\n",
       "  <tbody>\n",
       "    <tr>\n",
       "      <th>0</th>\n",
       "      <td>19</td>\n",
       "      <td>2</td>\n",
       "      <td>1</td>\n",
       "      <td>15.0</td>\n",
       "      <td>1</td>\n",
       "      <td>2</td>\n",
       "    </tr>\n",
       "    <tr>\n",
       "      <th>1</th>\n",
       "      <td>19</td>\n",
       "      <td>2</td>\n",
       "      <td>1</td>\n",
       "      <td>3.3</td>\n",
       "      <td>0</td>\n",
       "      <td>0</td>\n",
       "    </tr>\n",
       "    <tr>\n",
       "      <th>2</th>\n",
       "      <td>19</td>\n",
       "      <td>2</td>\n",
       "      <td>1</td>\n",
       "      <td>15.0</td>\n",
       "      <td>1</td>\n",
       "      <td>2</td>\n",
       "    </tr>\n",
       "    <tr>\n",
       "      <th>3</th>\n",
       "      <td>19</td>\n",
       "      <td>2</td>\n",
       "      <td>1</td>\n",
       "      <td>15.0</td>\n",
       "      <td>1</td>\n",
       "      <td>2</td>\n",
       "    </tr>\n",
       "    <tr>\n",
       "      <th>4</th>\n",
       "      <td>19</td>\n",
       "      <td>2</td>\n",
       "      <td>1</td>\n",
       "      <td>15.0</td>\n",
       "      <td>1</td>\n",
       "      <td>2</td>\n",
       "    </tr>\n",
       "  </tbody>\n",
       "</table>\n",
       "</div>"
      ],
      "text/plain": [
       "   city  staff  station_type  capacity  power_type  vehicle_type\n",
       "0    19      2             1      15.0           1             2\n",
       "1    19      2             1       3.3           0             0\n",
       "2    19      2             1      15.0           1             2\n",
       "3    19      2             1      15.0           1             2\n",
       "4    19      2             1      15.0           1             2"
      ]
     },
     "execution_count": 188,
     "metadata": {},
     "output_type": "execute_result"
    }
   ],
   "source": [
    "data.head()"
   ]
  },
  {
   "cell_type": "code",
   "execution_count": 189,
   "id": "9ba73060",
   "metadata": {},
   "outputs": [],
   "source": [
    "x=data.drop(['city'],axis=1)\n",
    "y=data['city']"
   ]
  },
  {
   "cell_type": "code",
   "execution_count": 192,
   "id": "209f9d9c",
   "metadata": {},
   "outputs": [
    {
     "name": "stderr",
     "output_type": "stream",
     "text": [
      "C:\\Users\\Abhinav\\anaconda3\\lib\\site-packages\\sklearn\\cluster\\_kmeans.py:870: FutureWarning: The default value of `n_init` will change from 10 to 'auto' in 1.4. Set the value of `n_init` explicitly to suppress the warning\n",
      "  warnings.warn(\n",
      "C:\\Users\\Abhinav\\anaconda3\\lib\\site-packages\\sklearn\\cluster\\_kmeans.py:870: FutureWarning: The default value of `n_init` will change from 10 to 'auto' in 1.4. Set the value of `n_init` explicitly to suppress the warning\n",
      "  warnings.warn(\n",
      "C:\\Users\\Abhinav\\anaconda3\\lib\\site-packages\\sklearn\\cluster\\_kmeans.py:870: FutureWarning: The default value of `n_init` will change from 10 to 'auto' in 1.4. Set the value of `n_init` explicitly to suppress the warning\n",
      "  warnings.warn(\n",
      "C:\\Users\\Abhinav\\anaconda3\\lib\\site-packages\\sklearn\\cluster\\_kmeans.py:870: FutureWarning: The default value of `n_init` will change from 10 to 'auto' in 1.4. Set the value of `n_init` explicitly to suppress the warning\n",
      "  warnings.warn(\n",
      "C:\\Users\\Abhinav\\anaconda3\\lib\\site-packages\\sklearn\\cluster\\_kmeans.py:870: FutureWarning: The default value of `n_init` will change from 10 to 'auto' in 1.4. Set the value of `n_init` explicitly to suppress the warning\n",
      "  warnings.warn(\n",
      "C:\\Users\\Abhinav\\anaconda3\\lib\\site-packages\\sklearn\\cluster\\_kmeans.py:870: FutureWarning: The default value of `n_init` will change from 10 to 'auto' in 1.4. Set the value of `n_init` explicitly to suppress the warning\n",
      "  warnings.warn(\n",
      "C:\\Users\\Abhinav\\anaconda3\\lib\\site-packages\\sklearn\\cluster\\_kmeans.py:870: FutureWarning: The default value of `n_init` will change from 10 to 'auto' in 1.4. Set the value of `n_init` explicitly to suppress the warning\n",
      "  warnings.warn(\n",
      "C:\\Users\\Abhinav\\anaconda3\\lib\\site-packages\\sklearn\\cluster\\_kmeans.py:870: FutureWarning: The default value of `n_init` will change from 10 to 'auto' in 1.4. Set the value of `n_init` explicitly to suppress the warning\n",
      "  warnings.warn(\n",
      "C:\\Users\\Abhinav\\anaconda3\\lib\\site-packages\\sklearn\\cluster\\_kmeans.py:870: FutureWarning: The default value of `n_init` will change from 10 to 'auto' in 1.4. Set the value of `n_init` explicitly to suppress the warning\n",
      "  warnings.warn(\n",
      "C:\\Users\\Abhinav\\anaconda3\\lib\\site-packages\\sklearn\\cluster\\_kmeans.py:870: FutureWarning: The default value of `n_init` will change from 10 to 'auto' in 1.4. Set the value of `n_init` explicitly to suppress the warning\n",
      "  warnings.warn(\n"
     ]
    },
    {
     "data": {
      "image/png": "[encoded data removed]",
      "text/plain": [
       "<Figure size 1200x600 with 1 Axes>"
      ]
     },
     "metadata": {},
     "output_type": "display_data"
    }
   ],
   "source": [
    "# finding number of clusters\n",
    "from sklearn.cluster import KMeans\n",
    "wcss=[]\n",
    "for k in range(1,11):\n",
    "    kmeans=KMeans(n_clusters=k,init='k-means++',random_state=42)\n",
    "    kmeans.fit(data)\n",
    "    wcss.append(kmeans.inertia_)\n",
    "plt.figure(figsize=(12,6))    \n",
    "plt.grid()\n",
    "plt.plot(range(1,11),wcss, linewidth=2, color=\"red\", marker =\"8\")\n",
    "plt.xlabel(\"K Value\")\n",
    "plt.xticks(np.arange(1,11,1))\n",
    "plt.ylabel(\"WCSS\")\n",
    "plt.show()    "
   ]
  },
  {
   "cell_type": "code",
   "execution_count": 191,
   "id": "787dbb41",
   "metadata": {},
   "outputs": [
    {
     "data": {
      "text/html": [
       "<div>\n",
       "<style scoped>\n",
       "    .dataframe tbody tr th:only-of-type {\n",
       "        vertical-align: middle;\n",
       "    }\n",
       "\n",
       "    .dataframe tbody tr th {\n",
       "        vertical-align: top;\n",
       "    }\n",
       "\n",
       "    .dataframe thead th {\n",
       "        text-align: right;\n",
       "    }\n",
       "</style>\n",
       "<table border=\"1\" class=\"dataframe\">\n",
       "  <thead>\n",
       "    <tr style=\"text-align: right;\">\n",
       "      <th></th>\n",
       "      <th>city</th>\n",
       "      <th>staff</th>\n",
       "      <th>station_type</th>\n",
       "      <th>capacity</th>\n",
       "      <th>power_type</th>\n",
       "      <th>vehicle_type</th>\n",
       "    </tr>\n",
       "  </thead>\n",
       "  <tbody>\n",
       "    <tr>\n",
       "      <th>0</th>\n",
       "      <td>New Delhi</td>\n",
       "      <td>Unstaffed</td>\n",
       "      <td>charging</td>\n",
       "      <td>15.0</td>\n",
       "      <td>DC</td>\n",
       "      <td>['4W']</td>\n",
       "    </tr>\n",
       "    <tr>\n",
       "      <th>1</th>\n",
       "      <td>New Delhi</td>\n",
       "      <td>Unstaffed</td>\n",
       "      <td>charging</td>\n",
       "      <td>3.3</td>\n",
       "      <td>AC</td>\n",
       "      <td>['2W', '3W', '4W']</td>\n",
       "    </tr>\n",
       "    <tr>\n",
       "      <th>2</th>\n",
       "      <td>New Delhi</td>\n",
       "      <td>Unstaffed</td>\n",
       "      <td>charging</td>\n",
       "      <td>15.0</td>\n",
       "      <td>DC</td>\n",
       "      <td>['4W']</td>\n",
       "    </tr>\n",
       "    <tr>\n",
       "      <th>3</th>\n",
       "      <td>New Delhi</td>\n",
       "      <td>Unstaffed</td>\n",
       "      <td>charging</td>\n",
       "      <td>15.0</td>\n",
       "      <td>DC</td>\n",
       "      <td>['4W']</td>\n",
       "    </tr>\n",
       "    <tr>\n",
       "      <th>4</th>\n",
       "      <td>New Delhi</td>\n",
       "      <td>Unstaffed</td>\n",
       "      <td>charging</td>\n",
       "      <td>15.0</td>\n",
       "      <td>DC</td>\n",
       "      <td>['4W']</td>\n",
       "    </tr>\n",
       "  </tbody>\n",
       "</table>\n",
       "</div>"
      ],
      "text/plain": [
       "        city      staff station_type  capacity power_type        vehicle_type\n",
       "0  New Delhi  Unstaffed     charging      15.0         DC              ['4W']\n",
       "1  New Delhi  Unstaffed     charging       3.3         AC  ['2W', '3W', '4W']\n",
       "2  New Delhi  Unstaffed     charging      15.0         DC              ['4W']\n",
       "3  New Delhi  Unstaffed     charging      15.0         DC              ['4W']\n",
       "4  New Delhi  Unstaffed     charging      15.0         DC              ['4W']"
      ]
     },
     "execution_count": 191,
     "metadata": {},
     "output_type": "execute_result"
    }
   ],
   "source": [
    "data_original.head()"
   ]
  },
  {
   "cell_type": "code",
   "execution_count": 194,
   "id": "c6983f85",
   "metadata": {},
   "outputs": [
    {
     "name": "stderr",
     "output_type": "stream",
     "text": [
      "C:\\Users\\Abhinav\\anaconda3\\lib\\site-packages\\sklearn\\cluster\\_kmeans.py:870: FutureWarning: The default value of `n_init` will change from 10 to 'auto' in 1.4. Set the value of `n_init` explicitly to suppress the warning\n",
      "  warnings.warn(\n"
     ]
    }
   ],
   "source": [
    "#using KMeans clustering technic to create clusters\n",
    "km=KMeans(n_clusters=3,random_state=42)\n",
    "clusters=km.fit_predict(data)\n",
    "data['clusters']=clusters\n",
    "\n",
    "data_original['clusters']=clusters"
   ]
  },
  {
   "cell_type": "code",
   "execution_count": 195,
   "id": "962c9ad6",
   "metadata": {},
   "outputs": [
    {
     "data": {
      "text/html": [
       "<div>\n",
       "<style scoped>\n",
       "    .dataframe tbody tr th:only-of-type {\n",
       "        vertical-align: middle;\n",
       "    }\n",
       "\n",
       "    .dataframe tbody tr th {\n",
       "        vertical-align: top;\n",
       "    }\n",
       "\n",
       "    .dataframe thead th {\n",
       "        text-align: right;\n",
       "    }\n",
       "</style>\n",
       "<table border=\"1\" class=\"dataframe\">\n",
       "  <thead>\n",
       "    <tr style=\"text-align: right;\">\n",
       "      <th></th>\n",
       "      <th>city</th>\n",
       "      <th>staff</th>\n",
       "      <th>station_type</th>\n",
       "      <th>capacity</th>\n",
       "      <th>power_type</th>\n",
       "      <th>vehicle_type</th>\n",
       "      <th>clusters</th>\n",
       "    </tr>\n",
       "  </thead>\n",
       "  <tbody>\n",
       "    <tr>\n",
       "      <th>0</th>\n",
       "      <td>New Delhi</td>\n",
       "      <td>Unstaffed</td>\n",
       "      <td>charging</td>\n",
       "      <td>15.0</td>\n",
       "      <td>DC</td>\n",
       "      <td>['4W']</td>\n",
       "      <td>2</td>\n",
       "    </tr>\n",
       "    <tr>\n",
       "      <th>1</th>\n",
       "      <td>New Delhi</td>\n",
       "      <td>Unstaffed</td>\n",
       "      <td>charging</td>\n",
       "      <td>3.3</td>\n",
       "      <td>AC</td>\n",
       "      <td>['2W', '3W', '4W']</td>\n",
       "      <td>0</td>\n",
       "    </tr>\n",
       "    <tr>\n",
       "      <th>2</th>\n",
       "      <td>New Delhi</td>\n",
       "      <td>Unstaffed</td>\n",
       "      <td>charging</td>\n",
       "      <td>15.0</td>\n",
       "      <td>DC</td>\n",
       "      <td>['4W']</td>\n",
       "      <td>2</td>\n",
       "    </tr>\n",
       "    <tr>\n",
       "      <th>3</th>\n",
       "      <td>New Delhi</td>\n",
       "      <td>Unstaffed</td>\n",
       "      <td>charging</td>\n",
       "      <td>15.0</td>\n",
       "      <td>DC</td>\n",
       "      <td>['4W']</td>\n",
       "      <td>2</td>\n",
       "    </tr>\n",
       "    <tr>\n",
       "      <th>4</th>\n",
       "      <td>New Delhi</td>\n",
       "      <td>Unstaffed</td>\n",
       "      <td>charging</td>\n",
       "      <td>15.0</td>\n",
       "      <td>DC</td>\n",
       "      <td>['4W']</td>\n",
       "      <td>2</td>\n",
       "    </tr>\n",
       "  </tbody>\n",
       "</table>\n",
       "</div>"
      ],
      "text/plain": [
       "        city      staff station_type  capacity power_type        vehicle_type  \\\n",
       "0  New Delhi  Unstaffed     charging      15.0         DC              ['4W']   \n",
       "1  New Delhi  Unstaffed     charging       3.3         AC  ['2W', '3W', '4W']   \n",
       "2  New Delhi  Unstaffed     charging      15.0         DC              ['4W']   \n",
       "3  New Delhi  Unstaffed     charging      15.0         DC              ['4W']   \n",
       "4  New Delhi  Unstaffed     charging      15.0         DC              ['4W']   \n",
       "\n",
       "   clusters  \n",
       "0         2  \n",
       "1         0  \n",
       "2         2  \n",
       "3         2  \n",
       "4         2  "
      ]
     },
     "execution_count": 195,
     "metadata": {},
     "output_type": "execute_result"
    }
   ],
   "source": [
    "data_original.head()"
   ]
  },
  {
   "cell_type": "code",
   "execution_count": 196,
   "id": "224813f6",
   "metadata": {},
   "outputs": [
    {
     "data": {
      "text/plain": [
       "0    2150\n",
       "2     297\n",
       "1     258\n",
       "Name: clusters, dtype: int64"
      ]
     },
     "execution_count": 196,
     "metadata": {},
     "output_type": "execute_result"
    }
   ],
   "source": [
    "data_original['clusters'].value_counts() #first clusteer is the prominent one"
   ]
  },
  {
   "cell_type": "code",
   "execution_count": 197,
   "id": "8b6b4cdd",
   "metadata": {},
   "outputs": [],
   "source": [
    "#separating clusters\n",
    "cluster_0=data_original[data_original.clusters==0]\n",
    "cluster_1=data_original[data_original.clusters==1]\n",
    "cluster_2=data_original[data_original.clusters==2]"
   ]
  },
  {
   "cell_type": "code",
   "execution_count": 198,
   "id": "1319fa52",
   "metadata": {},
   "outputs": [
    {
     "data": {
      "text/html": [
       "<div>\n",
       "<style scoped>\n",
       "    .dataframe tbody tr th:only-of-type {\n",
       "        vertical-align: middle;\n",
       "    }\n",
       "\n",
       "    .dataframe tbody tr th {\n",
       "        vertical-align: top;\n",
       "    }\n",
       "\n",
       "    .dataframe thead th {\n",
       "        text-align: right;\n",
       "    }\n",
       "</style>\n",
       "<table border=\"1\" class=\"dataframe\">\n",
       "  <thead>\n",
       "    <tr style=\"text-align: right;\">\n",
       "      <th></th>\n",
       "      <th>city</th>\n",
       "      <th>staff</th>\n",
       "      <th>station_type</th>\n",
       "      <th>capacity</th>\n",
       "      <th>power_type</th>\n",
       "      <th>vehicle_type</th>\n",
       "      <th>clusters</th>\n",
       "    </tr>\n",
       "  </thead>\n",
       "  <tbody>\n",
       "    <tr>\n",
       "      <th>1</th>\n",
       "      <td>New Delhi</td>\n",
       "      <td>Unstaffed</td>\n",
       "      <td>charging</td>\n",
       "      <td>3.3</td>\n",
       "      <td>AC</td>\n",
       "      <td>['2W', '3W', '4W']</td>\n",
       "      <td>0</td>\n",
       "    </tr>\n",
       "    <tr>\n",
       "      <th>5</th>\n",
       "      <td>New Delhi</td>\n",
       "      <td>Staffed</td>\n",
       "      <td>charging</td>\n",
       "      <td>3.3</td>\n",
       "      <td>AC</td>\n",
       "      <td>['2W', '3W', '4W']</td>\n",
       "      <td>0</td>\n",
       "    </tr>\n",
       "    <tr>\n",
       "      <th>7</th>\n",
       "      <td>New Delhi</td>\n",
       "      <td>Unstaffed</td>\n",
       "      <td>charging</td>\n",
       "      <td>3.3</td>\n",
       "      <td>AC</td>\n",
       "      <td>['2W', '3W', '4W']</td>\n",
       "      <td>0</td>\n",
       "    </tr>\n",
       "    <tr>\n",
       "      <th>8</th>\n",
       "      <td>New Delhi</td>\n",
       "      <td>Staffed</td>\n",
       "      <td>charging</td>\n",
       "      <td>3.3</td>\n",
       "      <td>AC</td>\n",
       "      <td>['2W', '3W', '4W']</td>\n",
       "      <td>0</td>\n",
       "    </tr>\n",
       "    <tr>\n",
       "      <th>11</th>\n",
       "      <td>New Delhi</td>\n",
       "      <td>Staffed</td>\n",
       "      <td>charging</td>\n",
       "      <td>3.3</td>\n",
       "      <td>AC</td>\n",
       "      <td>['2W', '3W', '4W']</td>\n",
       "      <td>0</td>\n",
       "    </tr>\n",
       "  </tbody>\n",
       "</table>\n",
       "</div>"
      ],
      "text/plain": [
       "         city      staff station_type  capacity power_type  \\\n",
       "1   New Delhi  Unstaffed     charging       3.3         AC   \n",
       "5   New Delhi    Staffed     charging       3.3         AC   \n",
       "7   New Delhi  Unstaffed     charging       3.3         AC   \n",
       "8   New Delhi    Staffed     charging       3.3         AC   \n",
       "11  New Delhi    Staffed     charging       3.3         AC   \n",
       "\n",
       "          vehicle_type  clusters  \n",
       "1   ['2W', '3W', '4W']         0  \n",
       "5   ['2W', '3W', '4W']         0  \n",
       "7   ['2W', '3W', '4W']         0  \n",
       "8   ['2W', '3W', '4W']         0  \n",
       "11  ['2W', '3W', '4W']         0  "
      ]
     },
     "execution_count": 198,
     "metadata": {},
     "output_type": "execute_result"
    }
   ],
   "source": [
    "cluster_0.head()"
   ]
  },
  {
   "cell_type": "code",
   "execution_count": 202,
   "id": "3d9fab5d",
   "metadata": {},
   "outputs": [
    {
     "data": {
      "image/png": "[encoded data removed]",
      "text/plain": [
       "<Figure size 640x480 with 1 Axes>"
      ]
     },
     "metadata": {},
     "output_type": "display_data"
    }
   ],
   "source": [
    "\n",
    "sns.countplot(y=data_original['city'],hue=data_original['clusters'])\n",
    "plt.xscale('log')"
   ]
  },
  {
   "cell_type": "code",
   "execution_count": 203,
   "id": "768d5a34",
   "metadata": {},
   "outputs": [
    {
     "data": {
      "image/png": "[encoded data removed]",
      "text/plain": [
       "<Figure size 640x480 with 1 Axes>"
      ]
     },
     "metadata": {},
     "output_type": "display_data"
    }
   ],
   "source": [
    "sns.countplot(y=data_original['vehicle_type'],hue=data_original['clusters'])\n",
    "plt.xscale('log')"
   ]
  },
  {
   "cell_type": "code",
   "execution_count": 204,
   "id": "7709851b",
   "metadata": {},
   "outputs": [
    {
     "data": {
      "image/png": "[encoded data removed]",
      "text/plain": [
       "<Figure size 640x480 with 1 Axes>"
      ]
     },
     "metadata": {},
     "output_type": "display_data"
    }
   ],
   "source": [
    "sns.countplot(y=data_original['station_type'],hue=data_original['clusters'])\n",
    "plt.xscale('log')"
   ]
  },
  {
   "cell_type": "code",
   "execution_count": null,
   "id": "da0a7d38",
   "metadata": {},
   "outputs": [],
   "source": []
  }
 ],
 "metadata": {
  "kernelspec": {
   "display_name": "Python 3 (ipykernel)",
   "language": "python",
   "name": "python3"
  },
  "language_info": {
   "codemirror_mode": {
    "name": "ipython",
    "version": 3
   },
   "file_extension": ".py",
   "mimetype": "text/x-python",
   "name": "python",
   "nbconvert_exporter": "python",
   "pygments_lexer": "ipython3",
   "version": "3.10.9"
  }
 },
 "nbformat": 4,
 "nbformat_minor": 5
}
